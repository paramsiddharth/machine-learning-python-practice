{
 "cells": [
  {
   "cell_type": "markdown",
   "id": "strategic-saying",
   "metadata": {},
   "source": [
    "# Data Range"
   ]
  },
  {
   "cell_type": "markdown",
   "id": "bridal-jaguar",
   "metadata": {},
   "source": [
    "## Range scaling (Range Compression)\n",
    "### Compressing data into a desired range.\n",
    "\n",
    "$d_{min}$ and $d_{max}$ are respectively\n",
    "the minimum and maximum values in\n",
    "the data.\n",
    "\n",
    "We first calculate the proportion:\n",
    "$$x_{proportion}=\\frac{x-d_{min}}{d_{max}-d_{min}}$$\n",
    "\n",
    "Let's say we take the range $[r_{min},r_{max}]$.\n",
    "\n",
    "Using the proportion, we can calculate the scaled values:\n",
    "$$x_{scaled}=x_{proportion}\\times(r_{max}-r_{min})+r_{min}$$"
   ]
  },
  {
   "cell_type": "code",
   "execution_count": 1,
   "id": "going-attendance",
   "metadata": {
    "scrolled": true
   },
   "outputs": [],
   "source": [
    "import numpy as np\n",
    "import pandas as pd\n",
    "import matplotlib.pyplot as plt\n",
    "%matplotlib inline\n",
    "import sklearn"
   ]
  },
  {
   "cell_type": "code",
   "execution_count": 2,
   "id": "voluntary-alpha",
   "metadata": {},
   "outputs": [],
   "source": [
    "from sklearn.preprocessing import MinMaxScaler"
   ]
  },
  {
   "cell_type": "code",
   "execution_count": 15,
   "id": "altered-tulsa",
   "metadata": {},
   "outputs": [
    {
     "data": {
      "text/plain": [
       "array([[  1, 100],\n",
       "       [  2, 200],\n",
       "       [  3, 400],\n",
       "       [  3, 200],\n",
       "       [  2, 250],\n",
       "       [  1, 350],\n",
       "       [  4, 600],\n",
       "       [  5, 350],\n",
       "       [  6, 700],\n",
       "       [  5, 650],\n",
       "       [  5, 400],\n",
       "       [  3, 470],\n",
       "       [  4, 500]])"
      ]
     },
     "execution_count": 15,
     "metadata": {},
     "output_type": "execute_result"
    }
   ],
   "source": [
    "data = np.array([\n",
    "    [1, 2, 3, 3, 2, 1, 4, 5, 6, 5, 5, 3, 4],\n",
    "    [100, 200, 400, 200, 250, 350, 600, 350, 700, 650, 400, 470, 500]\n",
    "])\n",
    "data = data.transpose()\n",
    "data"
   ]
  },
  {
   "cell_type": "code",
   "execution_count": 17,
   "id": "advance-costs",
   "metadata": {},
   "outputs": [
    {
     "data": {
      "text/plain": [
       "array([[0.        , 0.        ],\n",
       "       [0.2       , 0.16666667],\n",
       "       [0.4       , 0.5       ],\n",
       "       [0.4       , 0.16666667],\n",
       "       [0.2       , 0.25      ],\n",
       "       [0.        , 0.41666667],\n",
       "       [0.6       , 0.83333333],\n",
       "       [0.8       , 0.41666667],\n",
       "       [1.        , 1.        ],\n",
       "       [0.8       , 0.91666667],\n",
       "       [0.8       , 0.5       ],\n",
       "       [0.4       , 0.61666667],\n",
       "       [0.6       , 0.66666667]])"
      ]
     },
     "execution_count": 17,
     "metadata": {},
     "output_type": "execute_result"
    }
   ],
   "source": [
    "default_scaler = MinMaxScaler() # Default range: [0, 1]\n",
    "default_scaler.fit_transform(data)"
   ]
  },
  {
   "cell_type": "code",
   "execution_count": 32,
   "id": "intellectual-pipeline",
   "metadata": {},
   "outputs": [
    {
     "data": {
      "text/plain": [
       "array([[0. ],\n",
       "       [0.2],\n",
       "       [0.4],\n",
       "       [0.4],\n",
       "       [0.2],\n",
       "       [0. ],\n",
       "       [0.6],\n",
       "       [0.8],\n",
       "       [1. ],\n",
       "       [0.8],\n",
       "       [0.8],\n",
       "       [0.4],\n",
       "       [0.6]])"
      ]
     },
     "execution_count": 32,
     "metadata": {},
     "output_type": "execute_result"
    }
   ],
   "source": [
    "default_scaler.fit_transform(data[:, 0].reshape(-1, 1))"
   ]
  },
  {
   "cell_type": "code",
   "execution_count": 33,
   "id": "willing-investment",
   "metadata": {},
   "outputs": [
    {
     "data": {
      "text/plain": [
       "array([[-10.        , -10.        ],\n",
       "       [ -7.2       ,  -7.66666667],\n",
       "       [ -4.4       ,  -3.        ],\n",
       "       [ -4.4       ,  -7.66666667],\n",
       "       [ -7.2       ,  -6.5       ],\n",
       "       [-10.        ,  -4.16666667],\n",
       "       [ -1.6       ,   1.66666667],\n",
       "       [  1.2       ,  -4.16666667],\n",
       "       [  4.        ,   4.        ],\n",
       "       [  1.2       ,   2.83333333],\n",
       "       [  1.2       ,  -3.        ],\n",
       "       [ -4.4       ,  -1.36666667],\n",
       "       [ -1.6       ,  -0.66666667]])"
      ]
     },
     "execution_count": 33,
     "metadata": {},
     "output_type": "execute_result"
    }
   ],
   "source": [
    "custom_scaler = MinMaxScaler(feature_range=(-10, 4))\n",
    "custom_scaler.fit_transform(data)"
   ]
  },
  {
   "cell_type": "code",
   "execution_count": 42,
   "id": "described-signal",
   "metadata": {},
   "outputs": [
    {
     "data": {
      "text/plain": [
       "(array([[  1, 100],\n",
       "        [  2, 200],\n",
       "        [  3, 400],\n",
       "        [  3, 200],\n",
       "        [  2, 250],\n",
       "        [  1, 350],\n",
       "        [  4, 600],\n",
       "        [  5, 350],\n",
       "        [  6, 700],\n",
       "        [  5, 650],\n",
       "        [  5, 400],\n",
       "        [  3, 470],\n",
       "        [  4, 500]]),\n",
       " array([[1.0e-01, 9.0e+03],\n",
       "        [2.0e-01, 2.0e+03],\n",
       "        [4.1e+00, 3.0e+03],\n",
       "        [4.4e+00, 4.0e+03]]))"
      ]
     },
     "execution_count": 42,
     "metadata": {},
     "output_type": "execute_result"
    }
   ],
   "source": [
    "data2 = np.array([\n",
    "    [0.1, 0.2, 4.1, 4.4],\n",
    "    [9000, 2000, 3000, 4000]\n",
    "])\n",
    "data2 = data2.transpose()\n",
    "data, data2"
   ]
  },
  {
   "cell_type": "code",
   "execution_count": 41,
   "id": "severe-bryan",
   "metadata": {},
   "outputs": [
    {
     "data": {
      "text/plain": [
       "array([[-0.18      , 14.83333333],\n",
       "       [-0.16      ,  3.16666667],\n",
       "       [ 0.62      ,  4.83333333],\n",
       "       [ 0.68      ,  6.5       ]])"
      ]
     },
     "execution_count": 41,
     "metadata": {},
     "output_type": "execute_result"
    }
   ],
   "source": [
    "new_scaler = MinMaxScaler()\n",
    "new_scaler.fit(data)\n",
    "new_scaler.transform(data2)"
   ]
  }
 ],
 "metadata": {
  "kernelspec": {
   "display_name": "Python 3",
   "language": "python",
   "name": "python3"
  },
  "language_info": {
   "codemirror_mode": {
    "name": "ipython",
    "version": 3
   },
   "file_extension": ".py",
   "mimetype": "text/x-python",
   "name": "python",
   "nbconvert_exporter": "python",
   "pygments_lexer": "ipython3",
   "version": "3.9.4"
  }
 },
 "nbformat": 4,
 "nbformat_minor": 5
}
