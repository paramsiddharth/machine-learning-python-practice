{
 "cells": [
  {
   "cell_type": "markdown",
   "id": "wrong-browse",
   "metadata": {},
   "source": [
    "# Robust Scaling"
   ]
  },
  {
   "cell_type": "markdown",
   "id": "placed-lounge",
   "metadata": {},
   "source": [
    "## Scaling without being affected by outliers\n",
    "1. Subtract the median from each value.\n",
    "2. Scale to the IQR."
   ]
  },
  {
   "cell_type": "code",
   "execution_count": 1,
   "id": "reserved-sewing",
   "metadata": {},
   "outputs": [],
   "source": [
    "import numpy as np\n",
    "import pandas as pd\n",
    "import matplotlib.pyplot as plt\n",
    "%matplotlib inline\n",
    "import sklearn"
   ]
  },
  {
   "cell_type": "code",
   "execution_count": 13,
   "id": "cultural-reporter",
   "metadata": {},
   "outputs": [],
   "source": [
    "from sklearn.preprocessing import RobustScaler, MinMaxScaler"
   ]
  },
  {
   "cell_type": "code",
   "execution_count": 5,
   "id": "mediterranean-connecticut",
   "metadata": {},
   "outputs": [
    {
     "data": {
      "text/plain": [
       "array([[  1, 100],\n",
       "       [  2, 200],\n",
       "       [  3, 400],\n",
       "       [  3, 200],\n",
       "       [  2, 250],\n",
       "       [  1, 350],\n",
       "       [  4, 600],\n",
       "       [  5, 350],\n",
       "       [  6, 700],\n",
       "       [  5, 650],\n",
       "       [  5, 400],\n",
       "       [  3, 470],\n",
       "       [  4, 500]])"
      ]
     },
     "execution_count": 5,
     "metadata": {},
     "output_type": "execute_result"
    }
   ],
   "source": [
    "data = np.array([\n",
    "    [1, 2, 3, 3, 2, 1, 4, 5, 6, 5, 5, 3, 4],\n",
    "    [100, 200, 400, 200, 250, 350, 600, 350, 700, 650, 400, 470, 500]\n",
    "])\n",
    "data = data.transpose()\n",
    "data"
   ]
  },
  {
   "cell_type": "code",
   "execution_count": 98,
   "id": "handled-practice",
   "metadata": {},
   "outputs": [
    {
     "data": {
      "text/plain": [
       "(array([1. , 1.2]),\n",
       " array([-0.66666667, -1.2       ]),\n",
       " array([[-0.66666667, -1.2       ],\n",
       "        [-0.33333333, -0.8       ],\n",
       "        [ 0.        ,  0.        ],\n",
       "        [ 0.        , -0.8       ],\n",
       "        [-0.33333333, -0.6       ],\n",
       "        [-0.66666667, -0.2       ],\n",
       "        [ 0.33333333,  0.8       ],\n",
       "        [ 0.66666667, -0.2       ],\n",
       "        [ 1.        ,  1.2       ],\n",
       "        [ 0.66666667,  1.        ],\n",
       "        [ 0.66666667,  0.        ],\n",
       "        [ 0.        ,  0.28      ],\n",
       "        [ 0.33333333,  0.4       ]]))"
      ]
     },
     "execution_count": 98,
     "metadata": {},
     "output_type": "execute_result"
    }
   ],
   "source": [
    "robust_scaler = RobustScaler()\n",
    "scaled_info = robust_scaler.fit_transform(data)\n",
    "# np.quantile(scaled_info, 3 / 4, axis=0)\n",
    "# - np.quantile(scaled_info, 1 / 4, axis=0)\n",
    "scaled_info.max(axis=0), scaled_info.min(axis=0), scaled_info"
   ]
  },
  {
   "cell_type": "code",
   "execution_count": 71,
   "id": "cutting-transcription",
   "metadata": {},
   "outputs": [
    {
     "data": {
      "text/plain": [
       "(array([  2., 250.]), array([  3., 400.]), array([  5., 500.]))"
      ]
     },
     "execution_count": 71,
     "metadata": {},
     "output_type": "execute_result"
    }
   ],
   "source": [
    "q_1 = np.quantile(data, 1 / 4, axis=0)\n",
    "med = np.quantile(data, 2 / 4, axis=0)\n",
    "q_3 = np.quantile(data, 3 / 4, axis=0)\n",
    "q_1, med, q_3"
   ]
  },
  {
   "cell_type": "code",
   "execution_count": 130,
   "id": "angry-growth",
   "metadata": {
    "scrolled": false
   },
   "outputs": [
    {
     "name": "stdout",
     "output_type": "stream",
     "text": [
      "3.0\n",
      "250.0\n",
      "[[-0.66666667 -1.2       ]\n",
      " [-0.33333333 -0.8       ]\n",
      " [ 0.          0.        ]\n",
      " [ 0.         -0.8       ]\n",
      " [-0.33333333 -0.6       ]\n",
      " [-0.66666667 -0.2       ]\n",
      " [ 0.33333333  0.8       ]\n",
      " [ 0.66666667 -0.2       ]\n",
      " [ 1.          1.2       ]\n",
      " [ 0.66666667  1.        ]\n",
      " [ 0.66666667  0.        ]\n",
      " [ 0.          0.28      ]\n",
      " [ 0.33333333  0.4       ]]\n"
     ]
    }
   ],
   "source": [
    "new_data = np.ndarray(shape=data.shape)\n",
    "for i in range(data.shape[-1]):\n",
    "    cut_data = data[..., i]\n",
    "    iqr = q_3[i] - q_1[i]\n",
    "    cut_data = cut_data.reshape(-1, 1)\n",
    "    new_range = (q1, q3)\n",
    "    print(iqr)\n",
    "    c_data_scaled = np.array((cut_data - med[i]) / iqr)\n",
    "#     new_data[..., i] = c_data_scaled[..., 0]\n",
    "    new_data[..., i] = c_data_scaled.reshape((data.shape[0],))\n",
    "print(new_data)"
   ]
  }
 ],
 "metadata": {
  "kernelspec": {
   "display_name": "Python 3",
   "language": "python",
   "name": "python3"
  },
  "language_info": {
   "codemirror_mode": {
    "name": "ipython",
    "version": 3
   },
   "file_extension": ".py",
   "mimetype": "text/x-python",
   "name": "python",
   "nbconvert_exporter": "python",
   "pygments_lexer": "ipython3",
   "version": "3.9.4"
  }
 },
 "nbformat": 4,
 "nbformat_minor": 5
}
