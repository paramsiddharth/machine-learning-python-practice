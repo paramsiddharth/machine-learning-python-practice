{
 "cells": [
  {
   "cell_type": "markdown",
   "id": "realistic-department",
   "metadata": {},
   "source": [
    "# Standardizing Data"
   ]
  },
  {
   "cell_type": "markdown",
   "id": "lyric-rotation",
   "metadata": {},
   "source": [
    "Standard value = `z`\n",
    "$$z=\\frac{x-\\mu}{\\sigma}$$"
   ]
  },
  {
   "cell_type": "code",
   "execution_count": 1,
   "id": "middle-ultimate",
   "metadata": {},
   "outputs": [],
   "source": [
    "import numpy as np\n",
    "import pandas as pd\n",
    "import matplotlib.pyplot as plt\n",
    "%matplotlib inline\n",
    "import sklearn"
   ]
  },
  {
   "cell_type": "code",
   "execution_count": 2,
   "id": "final-budapest",
   "metadata": {},
   "outputs": [],
   "source": [
    "from sklearn.preprocessing import scale"
   ]
  },
  {
   "cell_type": "code",
   "execution_count": 3,
   "id": "verified-burning",
   "metadata": {},
   "outputs": [
    {
     "data": {
      "text/plain": [
       "array([ 1,  2,  2,  1,  3,  4, 65,  3,  7,  4,  3,  2,  2,  9,  2,  1])"
      ]
     },
     "execution_count": 3,
     "metadata": {},
     "output_type": "execute_result"
    }
   ],
   "source": [
    "data = np.array([1, 2, 2, 1, 3, 4, 65, 3, 7, 4, 3, 2, 2, 9, 2, 1])\n",
    "data"
   ]
  },
  {
   "cell_type": "code",
   "execution_count": 4,
   "id": "nutritional-light",
   "metadata": {},
   "outputs": [
    {
     "data": {
      "text/plain": [
       "array([-0.39220386, -0.32614847, -0.32614847, -0.39220386, -0.26009308,\n",
       "       -0.1940377 ,  3.83534087, -0.26009308,  0.00412846, -0.1940377 ,\n",
       "       -0.26009308, -0.32614847, -0.32614847,  0.13623923, -0.32614847,\n",
       "       -0.39220386])"
      ]
     },
     "execution_count": 4,
     "metadata": {},
     "output_type": "execute_result"
    }
   ],
   "source": [
    "z_vals = scale(data)\n",
    "z_vals"
   ]
  },
  {
   "cell_type": "code",
   "execution_count": 5,
   "id": "activated-thomas",
   "metadata": {},
   "outputs": [],
   "source": [
    "mean = data.mean()\n",
    "std_dev = data.std()"
   ]
  },
  {
   "cell_type": "code",
   "execution_count": 8,
   "id": "modern-cliff",
   "metadata": {},
   "outputs": [
    {
     "data": {
      "text/plain": [
       "True"
      ]
     },
     "execution_count": 8,
     "metadata": {},
     "output_type": "execute_result"
    }
   ],
   "source": [
    "((z_vals * std_dev + mean).astype(int) == data).all()"
   ]
  },
  {
   "cell_type": "code",
   "execution_count": 10,
   "id": "explicit-copying",
   "metadata": {},
   "outputs": [
    {
     "data": {
      "text/html": [
       "<div>\n",
       "<style scoped>\n",
       "    .dataframe tbody tr th:only-of-type {\n",
       "        vertical-align: middle;\n",
       "    }\n",
       "\n",
       "    .dataframe tbody tr th {\n",
       "        vertical-align: top;\n",
       "    }\n",
       "\n",
       "    .dataframe thead th {\n",
       "        text-align: right;\n",
       "    }\n",
       "</style>\n",
       "<table border=\"1\" class=\"dataframe\">\n",
       "  <thead>\n",
       "    <tr style=\"text-align: right;\">\n",
       "      <th></th>\n",
       "      <th>radius</th>\n",
       "    </tr>\n",
       "  </thead>\n",
       "  <tbody>\n",
       "    <tr>\n",
       "      <th>0</th>\n",
       "      <td>3.0</td>\n",
       "    </tr>\n",
       "    <tr>\n",
       "      <th>1</th>\n",
       "      <td>4.0</td>\n",
       "    </tr>\n",
       "    <tr>\n",
       "      <th>2</th>\n",
       "      <td>5.0</td>\n",
       "    </tr>\n",
       "    <tr>\n",
       "      <th>3</th>\n",
       "      <td>2.0</td>\n",
       "    </tr>\n",
       "    <tr>\n",
       "      <th>4</th>\n",
       "      <td>5.0</td>\n",
       "    </tr>\n",
       "    <tr>\n",
       "      <th>5</th>\n",
       "      <td>0.2</td>\n",
       "    </tr>\n",
       "    <tr>\n",
       "      <th>6</th>\n",
       "      <td>1.0</td>\n",
       "    </tr>\n",
       "    <tr>\n",
       "      <th>7</th>\n",
       "      <td>9.0</td>\n",
       "    </tr>\n",
       "    <tr>\n",
       "      <th>8</th>\n",
       "      <td>7.0</td>\n",
       "    </tr>\n",
       "    <tr>\n",
       "      <th>9</th>\n",
       "      <td>6.0</td>\n",
       "    </tr>\n",
       "    <tr>\n",
       "      <th>10</th>\n",
       "      <td>4.2</td>\n",
       "    </tr>\n",
       "    <tr>\n",
       "      <th>11</th>\n",
       "      <td>4.0</td>\n",
       "    </tr>\n",
       "    <tr>\n",
       "      <th>12</th>\n",
       "      <td>5.0</td>\n",
       "    </tr>\n",
       "    <tr>\n",
       "      <th>13</th>\n",
       "      <td>6.0</td>\n",
       "    </tr>\n",
       "    <tr>\n",
       "      <th>14</th>\n",
       "      <td>3.0</td>\n",
       "    </tr>\n",
       "    <tr>\n",
       "      <th>15</th>\n",
       "      <td>4.0</td>\n",
       "    </tr>\n",
       "    <tr>\n",
       "      <th>16</th>\n",
       "      <td>3.7</td>\n",
       "    </tr>\n",
       "  </tbody>\n",
       "</table>\n",
       "</div>"
      ],
      "text/plain": [
       "    radius\n",
       "0      3.0\n",
       "1      4.0\n",
       "2      5.0\n",
       "3      2.0\n",
       "4      5.0\n",
       "5      0.2\n",
       "6      1.0\n",
       "7      9.0\n",
       "8      7.0\n",
       "9      6.0\n",
       "10     4.2\n",
       "11     4.0\n",
       "12     5.0\n",
       "13     6.0\n",
       "14     3.0\n",
       "15     4.0\n",
       "16     3.7"
      ]
     },
     "execution_count": 10,
     "metadata": {},
     "output_type": "execute_result"
    }
   ],
   "source": [
    "pizzas = pd.DataFrame({\n",
    "    'radius': [\n",
    "        3,\n",
    "        4,\n",
    "        5,\n",
    "        2,\n",
    "        5,\n",
    "        0.2,\n",
    "        1,\n",
    "        9,\n",
    "        7,\n",
    "        6,\n",
    "        4.2,\n",
    "        4,\n",
    "        5,\n",
    "        6,\n",
    "        3,\n",
    "        4,\n",
    "        3.7\n",
    "    ]\n",
    "})\n",
    "pizzas"
   ]
  },
  {
   "cell_type": "code",
   "execution_count": 19,
   "id": "valuable-perception",
   "metadata": {},
   "outputs": [
    {
     "data": {
      "text/plain": [
       "radius    4.241\n",
       "dtype: float64"
      ]
     },
     "execution_count": 19,
     "metadata": {},
     "output_type": "execute_result"
    }
   ],
   "source": [
    "pizzas[['radius']].mean(axis=0).round(decimals=3)"
   ]
  },
  {
   "cell_type": "code",
   "execution_count": 25,
   "id": "adjusted-vegetation",
   "metadata": {},
   "outputs": [
    {
     "data": {
      "text/plain": [
       "2.1"
      ]
     },
     "execution_count": 25,
     "metadata": {},
     "output_type": "execute_result"
    }
   ],
   "source": [
    "pizzas['radius'].std(axis=0).round(1)"
   ]
  }
 ],
 "metadata": {
  "kernelspec": {
   "display_name": "Python 3",
   "language": "python",
   "name": "python3"
  },
  "language_info": {
   "codemirror_mode": {
    "name": "ipython",
    "version": 3
   },
   "file_extension": ".py",
   "mimetype": "text/x-python",
   "name": "python",
   "nbconvert_exporter": "python",
   "pygments_lexer": "ipython3",
   "version": "3.9.2"
  }
 },
 "nbformat": 4,
 "nbformat_minor": 5
}
