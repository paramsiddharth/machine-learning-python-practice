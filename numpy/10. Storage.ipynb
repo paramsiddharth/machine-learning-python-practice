{
 "cells": [
  {
   "cell_type": "markdown",
   "id": "honey-hypothetical",
   "metadata": {},
   "source": [
    "# Storing Data "
   ]
  },
  {
   "cell_type": "code",
   "execution_count": 1,
   "id": "stable-lightweight",
   "metadata": {},
   "outputs": [],
   "source": [
    "import numpy as np"
   ]
  },
  {
   "cell_type": "code",
   "execution_count": 2,
   "id": "clean-drama",
   "metadata": {},
   "outputs": [
    {
     "data": {
      "text/plain": [
       "array([1, 2, 3])"
      ]
     },
     "execution_count": 2,
     "metadata": {},
     "output_type": "execute_result"
    }
   ],
   "source": [
    "arr = np.array([1, 2, 3])\n",
    "arr"
   ]
  },
  {
   "cell_type": "code",
   "execution_count": 11,
   "id": "banner-proceeding",
   "metadata": {},
   "outputs": [],
   "source": [
    "np.save('fname.npy', arr)\n",
    "np.save('fname', arr) # Same thing"
   ]
  },
  {
   "cell_type": "code",
   "execution_count": 12,
   "id": "invalid-skiing",
   "metadata": {},
   "outputs": [
    {
     "name": "stdout",
     "output_type": "stream",
     "text": [
      "fname.npy\n"
     ]
    }
   ],
   "source": [
    "!ls fname*"
   ]
  },
  {
   "cell_type": "code",
   "execution_count": 13,
   "id": "banner-redhead",
   "metadata": {},
   "outputs": [
    {
     "data": {
      "text/plain": [
       "array([1, 2, 3])"
      ]
     },
     "execution_count": 13,
     "metadata": {},
     "output_type": "execute_result"
    }
   ],
   "source": [
    "loaded = np.load('fname.npy')\n",
    "loaded"
   ]
  }
 ],
 "metadata": {
  "kernelspec": {
   "display_name": "Python 3",
   "language": "python",
   "name": "python3"
  },
  "language_info": {
   "codemirror_mode": {
    "name": "ipython",
    "version": 3
   },
   "file_extension": ".py",
   "mimetype": "text/x-python",
   "name": "python",
   "nbconvert_exporter": "python",
   "pygments_lexer": "ipython3",
   "version": "3.9.2"
  }
 },
 "nbformat": 4,
 "nbformat_minor": 5
}
