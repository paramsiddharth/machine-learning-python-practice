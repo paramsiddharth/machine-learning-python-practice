{
 "cells": [
  {
   "cell_type": "markdown",
   "id": "interim-closer",
   "metadata": {},
   "source": [
    "# Random"
   ]
  },
  {
   "cell_type": "code",
   "execution_count": 1,
   "id": "traditional-submission",
   "metadata": {},
   "outputs": [],
   "source": [
    "import numpy as np"
   ]
  },
  {
   "cell_type": "code",
   "execution_count": 2,
   "id": "hired-intelligence",
   "metadata": {},
   "outputs": [],
   "source": [
    "np.random.seed(1)"
   ]
  },
  {
   "cell_type": "code",
   "execution_count": 3,
   "id": "modified-poetry",
   "metadata": {},
   "outputs": [
    {
     "data": {
      "text/plain": [
       "3"
      ]
     },
     "execution_count": 3,
     "metadata": {},
     "output_type": "execute_result"
    }
   ],
   "source": [
    "np.random.randint(5) # 0 - 4"
   ]
  },
  {
   "cell_type": "code",
   "execution_count": 4,
   "id": "classified-cookie",
   "metadata": {},
   "outputs": [
    {
     "data": {
      "text/plain": [
       "5"
      ]
     },
     "execution_count": 4,
     "metadata": {},
     "output_type": "execute_result"
    }
   ],
   "source": [
    "np.random.randint(5, high=7) # 5 or 6"
   ]
  },
  {
   "cell_type": "code",
   "execution_count": 5,
   "id": "typical-volleyball",
   "metadata": {},
   "outputs": [
    {
     "data": {
      "text/plain": [
       "3"
      ]
     },
     "execution_count": 5,
     "metadata": {},
     "output_type": "execute_result"
    }
   ],
   "source": [
    "np.random.seed(1)\n",
    "np.random.randint(5)"
   ]
  },
  {
   "cell_type": "code",
   "execution_count": 6,
   "id": "ranging-license",
   "metadata": {},
   "outputs": [],
   "source": [
    "vec = np.array([1, 2, 3, 4, 5])"
   ]
  },
  {
   "cell_type": "code",
   "execution_count": 13,
   "id": "brown-emission",
   "metadata": {},
   "outputs": [
    {
     "data": {
      "text/plain": [
       "array([1, 5, 3, 2, 4])"
      ]
     },
     "execution_count": 13,
     "metadata": {},
     "output_type": "execute_result"
    }
   ],
   "source": [
    "np.random.shuffle(vec)\n",
    "vec"
   ]
  },
  {
   "cell_type": "code",
   "execution_count": 14,
   "id": "concrete-midwest",
   "metadata": {},
   "outputs": [
    {
     "data": {
      "text/plain": [
       "array([[1, 2, 3, 4],\n",
       "       [5, 6, 7, 8]])"
      ]
     },
     "execution_count": 14,
     "metadata": {},
     "output_type": "execute_result"
    }
   ],
   "source": [
    "arr = np.array([\n",
    "    [1, 2, 3, 4],\n",
    "    [5, 6, 7, 8]\n",
    "])\n",
    "arr"
   ]
  },
  {
   "cell_type": "code",
   "execution_count": 16,
   "id": "acute-candy",
   "metadata": {},
   "outputs": [
    {
     "data": {
      "text/plain": [
       "array([[5, 6, 7, 8],\n",
       "       [1, 2, 3, 4]])"
      ]
     },
     "execution_count": 16,
     "metadata": {},
     "output_type": "execute_result"
    }
   ],
   "source": [
    "np.random.shuffle(arr) # Only shuffles the first dimension (here, row)\n",
    "arr"
   ]
  },
  {
   "cell_type": "code",
   "execution_count": 22,
   "id": "consolidated-lodge",
   "metadata": {},
   "outputs": [
    {
     "data": {
      "text/plain": [
       "0.7159705159683643"
      ]
     },
     "execution_count": 22,
     "metadata": {},
     "output_type": "execute_result"
    }
   ],
   "source": [
    "# Uniform Distribution\n",
    "np.random.uniform() # 0-1"
   ]
  },
  {
   "cell_type": "code",
   "execution_count": 39,
   "id": "smooth-inquiry",
   "metadata": {},
   "outputs": [
    {
     "data": {
      "text/plain": [
       "0.06269420751513044"
      ]
     },
     "execution_count": 39,
     "metadata": {},
     "output_type": "execute_result"
    }
   ],
   "source": [
    "np.random.uniform(low=-2, high=3)"
   ]
  },
  {
   "cell_type": "code",
   "execution_count": 54,
   "id": "solved-inclusion",
   "metadata": {},
   "outputs": [
    {
     "data": {
      "text/plain": [
       "array([0.76424161, 0.2127337 , 0.07425843, 0.09541925, 0.16220551,\n",
       "       0.35646368, 0.09530781, 0.14326301, 0.93101293, 0.57658422])"
      ]
     },
     "execution_count": 54,
     "metadata": {},
     "output_type": "execute_result"
    }
   ],
   "source": [
    "np.random.uniform(size=10)"
   ]
  },
  {
   "cell_type": "code",
   "execution_count": 92,
   "id": "convinced-external",
   "metadata": {},
   "outputs": [
    {
     "data": {
      "text/plain": [
       "array([[-0.11, -0.42],\n",
       "       [-0.15, -0.5 ]])"
      ]
     },
     "execution_count": 92,
     "metadata": {},
     "output_type": "execute_result"
    }
   ],
   "source": [
    "np.random.uniform(low=-0.5, high=0.5, size=(2, 2)).round(2)"
   ]
  },
  {
   "cell_type": "code",
   "execution_count": 128,
   "id": "handed-amateur",
   "metadata": {},
   "outputs": [
    {
     "data": {
      "text/plain": [
       "0.4056633076405743"
      ]
     },
     "execution_count": 128,
     "metadata": {},
     "output_type": "execute_result"
    }
   ],
   "source": [
    "# Normal (Gaussian) Distribution\n",
    "np.random.normal()"
   ]
  },
  {
   "cell_type": "code",
   "execution_count": 148,
   "id": "breeding-implement",
   "metadata": {},
   "outputs": [
    {
     "data": {
      "text/plain": [
       "array([[11.99300773,  3.20722686],\n",
       "       [20.29718599,  4.53993251],\n",
       "       [ 6.41818624,  8.33849937]])"
      ]
     },
     "execution_count": 148,
     "metadata": {},
     "output_type": "execute_result"
    }
   ],
   "source": [
    "np.random.normal(loc=10, scale=5, size=(3, 2))"
   ]
  },
  {
   "cell_type": "code",
   "execution_count": 150,
   "id": "decreased-shareware",
   "metadata": {},
   "outputs": [
    {
     "data": {
      "text/plain": [
       "array(['Manu', 'Henry', 'Santosh', 'Lata'], dtype='<U7')"
      ]
     },
     "execution_count": 150,
     "metadata": {},
     "output_type": "execute_result"
    }
   ],
   "source": [
    "people = np.array([\n",
    "    'Manu',\n",
    "    'Henry',\n",
    "    'Santosh',\n",
    "    'Lata'\n",
    "])\n",
    "people"
   ]
  },
  {
   "cell_type": "code",
   "execution_count": 156,
   "id": "posted-prescription",
   "metadata": {},
   "outputs": [
    {
     "data": {
      "text/plain": [
       "'Manu'"
      ]
     },
     "execution_count": 156,
     "metadata": {},
     "output_type": "execute_result"
    }
   ],
   "source": [
    "np.random.choice(people)"
   ]
  },
  {
   "cell_type": "code",
   "execution_count": 157,
   "id": "starting-divide",
   "metadata": {},
   "outputs": [
    {
     "data": {
      "text/plain": [
       "array(['Santosh', 'Henry', 'Santosh'], dtype='<U7')"
      ]
     },
     "execution_count": 157,
     "metadata": {},
     "output_type": "execute_result"
    }
   ],
   "source": [
    "np.random.choice(people, size=3)"
   ]
  },
  {
   "cell_type": "code",
   "execution_count": 163,
   "id": "local-international",
   "metadata": {},
   "outputs": [
    {
     "data": {
      "text/plain": [
       "array([['Lata', 'Lata'],\n",
       "       ['Santosh', 'Lata'],\n",
       "       ['Lata', 'Henry']], dtype='<U7')"
      ]
     },
     "execution_count": 163,
     "metadata": {},
     "output_type": "execute_result"
    }
   ],
   "source": [
    "np.random.choice(people, size=(3, 2))"
   ]
  },
  {
   "cell_type": "code",
   "execution_count": 171,
   "id": "exotic-charger",
   "metadata": {},
   "outputs": [
    {
     "data": {
      "text/plain": [
       "array([['Lata', 'Lata', 'Santosh', 'Lata'],\n",
       "       ['Lata', 'Lata', 'Lata', 'Santosh'],\n",
       "       ['Lata', 'Lata', 'Lata', 'Lata']], dtype='<U7')"
      ]
     },
     "execution_count": 171,
     "metadata": {},
     "output_type": "execute_result"
    }
   ],
   "source": [
    "np.random.choice(people, size=(3, 4), p=[0.1, 0.1, 0.1, 0.7])"
   ]
  }
 ],
 "metadata": {
  "kernelspec": {
   "display_name": "Python 3",
   "language": "python",
   "name": "python3"
  },
  "language_info": {
   "codemirror_mode": {
    "name": "ipython",
    "version": 3
   },
   "file_extension": ".py",
   "mimetype": "text/x-python",
   "name": "python",
   "nbconvert_exporter": "python",
   "pygments_lexer": "ipython3",
   "version": "3.9.2"
  }
 },
 "nbformat": 4,
 "nbformat_minor": 5
}
