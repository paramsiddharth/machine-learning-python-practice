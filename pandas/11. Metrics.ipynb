{
 "cells": [
  {
   "cell_type": "markdown",
   "id": "entire-porter",
   "metadata": {},
   "source": [
    "# Metrics"
   ]
  },
  {
   "cell_type": "code",
   "execution_count": 1,
   "id": "adverse-terrorism",
   "metadata": {},
   "outputs": [],
   "source": [
    "import numpy as np\n",
    "import pandas as pd\n",
    "import matplotlib.pyplot as plt\n",
    "%matplotlib inline"
   ]
  },
  {
   "cell_type": "markdown",
   "id": "accurate-removal",
   "metadata": {},
   "source": [
    "## `pandas.DataFrame.describe(self)`\n",
    "```py\n",
    "count # Number of rows\n",
    "mean  # Mean (Average)\n",
    "std   # Standard Deviation\n",
    "min   # Minimum\n",
    "25%   # First quartile\n",
    "50%   # Median\n",
    "75%   # Third quartile\n",
    "max   # Maximum\n",
    "```"
   ]
  },
  {
   "cell_type": "code",
   "execution_count": 2,
   "id": "southeast-charger",
   "metadata": {},
   "outputs": [
    {
     "data": {
      "text/html": [
       "<div>\n",
       "<style scoped>\n",
       "    .dataframe tbody tr th:only-of-type {\n",
       "        vertical-align: middle;\n",
       "    }\n",
       "\n",
       "    .dataframe tbody tr th {\n",
       "        vertical-align: top;\n",
       "    }\n",
       "\n",
       "    .dataframe thead th {\n",
       "        text-align: right;\n",
       "    }\n",
       "</style>\n",
       "<table border=\"1\" class=\"dataframe\">\n",
       "  <thead>\n",
       "    <tr style=\"text-align: right;\">\n",
       "      <th></th>\n",
       "      <th>id</th>\n",
       "      <th>year</th>\n",
       "      <th>stint</th>\n",
       "      <th>g</th>\n",
       "      <th>ab</th>\n",
       "      <th>r</th>\n",
       "      <th>h</th>\n",
       "      <th>X2b</th>\n",
       "      <th>X3b</th>\n",
       "      <th>hr</th>\n",
       "      <th>rbi</th>\n",
       "      <th>sb</th>\n",
       "      <th>cs</th>\n",
       "      <th>bb</th>\n",
       "      <th>so</th>\n",
       "      <th>ibb</th>\n",
       "      <th>hbp</th>\n",
       "      <th>sh</th>\n",
       "      <th>sf</th>\n",
       "      <th>gidp</th>\n",
       "    </tr>\n",
       "  </thead>\n",
       "  <tbody>\n",
       "    <tr>\n",
       "      <th>count</th>\n",
       "      <td>100.000000</td>\n",
       "      <td>100.00000</td>\n",
       "      <td>100.000000</td>\n",
       "      <td>100.000000</td>\n",
       "      <td>100.000000</td>\n",
       "      <td>100.00000</td>\n",
       "      <td>100.000000</td>\n",
       "      <td>100.000000</td>\n",
       "      <td>100.000000</td>\n",
       "      <td>100.000000</td>\n",
       "      <td>100.00000</td>\n",
       "      <td>100.000000</td>\n",
       "      <td>100.000000</td>\n",
       "      <td>100.000000</td>\n",
       "      <td>100.000000</td>\n",
       "      <td>100.000000</td>\n",
       "      <td>100.00000</td>\n",
       "      <td>100.000000</td>\n",
       "      <td>100.000000</td>\n",
       "      <td>100.000000</td>\n",
       "    </tr>\n",
       "    <tr>\n",
       "      <th>mean</th>\n",
       "      <td>89352.660000</td>\n",
       "      <td>2006.92000</td>\n",
       "      <td>1.130000</td>\n",
       "      <td>52.380000</td>\n",
       "      <td>136.540000</td>\n",
       "      <td>18.69000</td>\n",
       "      <td>35.820000</td>\n",
       "      <td>7.390000</td>\n",
       "      <td>0.550000</td>\n",
       "      <td>4.370000</td>\n",
       "      <td>18.47000</td>\n",
       "      <td>1.380000</td>\n",
       "      <td>0.460000</td>\n",
       "      <td>15.490000</td>\n",
       "      <td>24.080000</td>\n",
       "      <td>1.770000</td>\n",
       "      <td>1.12000</td>\n",
       "      <td>1.380000</td>\n",
       "      <td>1.200000</td>\n",
       "      <td>3.540000</td>\n",
       "    </tr>\n",
       "    <tr>\n",
       "      <th>std</th>\n",
       "      <td>218.910859</td>\n",
       "      <td>0.27266</td>\n",
       "      <td>0.337998</td>\n",
       "      <td>48.031299</td>\n",
       "      <td>181.936853</td>\n",
       "      <td>27.77496</td>\n",
       "      <td>50.221807</td>\n",
       "      <td>11.117277</td>\n",
       "      <td>1.445124</td>\n",
       "      <td>7.975537</td>\n",
       "      <td>28.34793</td>\n",
       "      <td>3.694878</td>\n",
       "      <td>1.067613</td>\n",
       "      <td>25.812649</td>\n",
       "      <td>32.804496</td>\n",
       "      <td>5.042957</td>\n",
       "      <td>2.23055</td>\n",
       "      <td>2.919042</td>\n",
       "      <td>2.035046</td>\n",
       "      <td>5.201826</td>\n",
       "    </tr>\n",
       "    <tr>\n",
       "      <th>min</th>\n",
       "      <td>88641.000000</td>\n",
       "      <td>2006.00000</td>\n",
       "      <td>1.000000</td>\n",
       "      <td>1.000000</td>\n",
       "      <td>0.000000</td>\n",
       "      <td>0.00000</td>\n",
       "      <td>0.000000</td>\n",
       "      <td>0.000000</td>\n",
       "      <td>0.000000</td>\n",
       "      <td>0.000000</td>\n",
       "      <td>0.00000</td>\n",
       "      <td>0.000000</td>\n",
       "      <td>0.000000</td>\n",
       "      <td>0.000000</td>\n",
       "      <td>0.000000</td>\n",
       "      <td>0.000000</td>\n",
       "      <td>0.00000</td>\n",
       "      <td>0.000000</td>\n",
       "      <td>0.000000</td>\n",
       "      <td>0.000000</td>\n",
       "    </tr>\n",
       "    <tr>\n",
       "      <th>25%</th>\n",
       "      <td>89353.500000</td>\n",
       "      <td>2007.00000</td>\n",
       "      <td>1.000000</td>\n",
       "      <td>9.500000</td>\n",
       "      <td>2.000000</td>\n",
       "      <td>0.00000</td>\n",
       "      <td>0.000000</td>\n",
       "      <td>0.000000</td>\n",
       "      <td>0.000000</td>\n",
       "      <td>0.000000</td>\n",
       "      <td>0.00000</td>\n",
       "      <td>0.000000</td>\n",
       "      <td>0.000000</td>\n",
       "      <td>0.000000</td>\n",
       "      <td>1.000000</td>\n",
       "      <td>0.000000</td>\n",
       "      <td>0.00000</td>\n",
       "      <td>0.000000</td>\n",
       "      <td>0.000000</td>\n",
       "      <td>0.000000</td>\n",
       "    </tr>\n",
       "    <tr>\n",
       "      <th>50%</th>\n",
       "      <td>89399.000000</td>\n",
       "      <td>2007.00000</td>\n",
       "      <td>1.000000</td>\n",
       "      <td>33.000000</td>\n",
       "      <td>40.500000</td>\n",
       "      <td>2.00000</td>\n",
       "      <td>8.000000</td>\n",
       "      <td>1.000000</td>\n",
       "      <td>0.000000</td>\n",
       "      <td>0.000000</td>\n",
       "      <td>2.00000</td>\n",
       "      <td>0.000000</td>\n",
       "      <td>0.000000</td>\n",
       "      <td>1.000000</td>\n",
       "      <td>7.000000</td>\n",
       "      <td>0.000000</td>\n",
       "      <td>0.00000</td>\n",
       "      <td>0.000000</td>\n",
       "      <td>0.000000</td>\n",
       "      <td>1.000000</td>\n",
       "    </tr>\n",
       "    <tr>\n",
       "      <th>75%</th>\n",
       "      <td>89465.250000</td>\n",
       "      <td>2007.00000</td>\n",
       "      <td>1.000000</td>\n",
       "      <td>83.250000</td>\n",
       "      <td>243.750000</td>\n",
       "      <td>33.25000</td>\n",
       "      <td>62.750000</td>\n",
       "      <td>11.750000</td>\n",
       "      <td>1.000000</td>\n",
       "      <td>6.000000</td>\n",
       "      <td>27.00000</td>\n",
       "      <td>1.000000</td>\n",
       "      <td>0.000000</td>\n",
       "      <td>19.250000</td>\n",
       "      <td>37.250000</td>\n",
       "      <td>1.250000</td>\n",
       "      <td>1.00000</td>\n",
       "      <td>1.000000</td>\n",
       "      <td>2.000000</td>\n",
       "      <td>6.000000</td>\n",
       "    </tr>\n",
       "    <tr>\n",
       "      <th>max</th>\n",
       "      <td>89534.000000</td>\n",
       "      <td>2007.00000</td>\n",
       "      <td>2.000000</td>\n",
       "      <td>155.000000</td>\n",
       "      <td>586.000000</td>\n",
       "      <td>107.00000</td>\n",
       "      <td>159.000000</td>\n",
       "      <td>52.000000</td>\n",
       "      <td>12.000000</td>\n",
       "      <td>35.000000</td>\n",
       "      <td>96.00000</td>\n",
       "      <td>22.000000</td>\n",
       "      <td>6.000000</td>\n",
       "      <td>132.000000</td>\n",
       "      <td>134.000000</td>\n",
       "      <td>43.000000</td>\n",
       "      <td>11.00000</td>\n",
       "      <td>14.000000</td>\n",
       "      <td>9.000000</td>\n",
       "      <td>21.000000</td>\n",
       "    </tr>\n",
       "  </tbody>\n",
       "</table>\n",
       "</div>"
      ],
      "text/plain": [
       "                 id        year       stint           g          ab  \\\n",
       "count    100.000000   100.00000  100.000000  100.000000  100.000000   \n",
       "mean   89352.660000  2006.92000    1.130000   52.380000  136.540000   \n",
       "std      218.910859     0.27266    0.337998   48.031299  181.936853   \n",
       "min    88641.000000  2006.00000    1.000000    1.000000    0.000000   \n",
       "25%    89353.500000  2007.00000    1.000000    9.500000    2.000000   \n",
       "50%    89399.000000  2007.00000    1.000000   33.000000   40.500000   \n",
       "75%    89465.250000  2007.00000    1.000000   83.250000  243.750000   \n",
       "max    89534.000000  2007.00000    2.000000  155.000000  586.000000   \n",
       "\n",
       "               r           h         X2b         X3b          hr        rbi  \\\n",
       "count  100.00000  100.000000  100.000000  100.000000  100.000000  100.00000   \n",
       "mean    18.69000   35.820000    7.390000    0.550000    4.370000   18.47000   \n",
       "std     27.77496   50.221807   11.117277    1.445124    7.975537   28.34793   \n",
       "min      0.00000    0.000000    0.000000    0.000000    0.000000    0.00000   \n",
       "25%      0.00000    0.000000    0.000000    0.000000    0.000000    0.00000   \n",
       "50%      2.00000    8.000000    1.000000    0.000000    0.000000    2.00000   \n",
       "75%     33.25000   62.750000   11.750000    1.000000    6.000000   27.00000   \n",
       "max    107.00000  159.000000   52.000000   12.000000   35.000000   96.00000   \n",
       "\n",
       "               sb          cs          bb          so         ibb        hbp  \\\n",
       "count  100.000000  100.000000  100.000000  100.000000  100.000000  100.00000   \n",
       "mean     1.380000    0.460000   15.490000   24.080000    1.770000    1.12000   \n",
       "std      3.694878    1.067613   25.812649   32.804496    5.042957    2.23055   \n",
       "min      0.000000    0.000000    0.000000    0.000000    0.000000    0.00000   \n",
       "25%      0.000000    0.000000    0.000000    1.000000    0.000000    0.00000   \n",
       "50%      0.000000    0.000000    1.000000    7.000000    0.000000    0.00000   \n",
       "75%      1.000000    0.000000   19.250000   37.250000    1.250000    1.00000   \n",
       "max     22.000000    6.000000  132.000000  134.000000   43.000000   11.00000   \n",
       "\n",
       "               sh          sf        gidp  \n",
       "count  100.000000  100.000000  100.000000  \n",
       "mean     1.380000    1.200000    3.540000  \n",
       "std      2.919042    2.035046    5.201826  \n",
       "min      0.000000    0.000000    0.000000  \n",
       "25%      0.000000    0.000000    0.000000  \n",
       "50%      0.000000    0.000000    1.000000  \n",
       "75%      1.000000    2.000000    6.000000  \n",
       "max     14.000000    9.000000   21.000000  "
      ]
     },
     "execution_count": 2,
     "metadata": {},
     "output_type": "execute_result"
    }
   ],
   "source": [
    "df = pd.read_csv('data.csv')\n",
    "df.describe()"
   ]
  },
  {
   "cell_type": "code",
   "execution_count": 3,
   "id": "traditional-preserve",
   "metadata": {},
   "outputs": [
    {
     "data": {
      "text/html": [
       "<div>\n",
       "<style scoped>\n",
       "    .dataframe tbody tr th:only-of-type {\n",
       "        vertical-align: middle;\n",
       "    }\n",
       "\n",
       "    .dataframe tbody tr th {\n",
       "        vertical-align: top;\n",
       "    }\n",
       "\n",
       "    .dataframe thead th {\n",
       "        text-align: right;\n",
       "    }\n",
       "</style>\n",
       "<table border=\"1\" class=\"dataframe\">\n",
       "  <thead>\n",
       "    <tr style=\"text-align: right;\">\n",
       "      <th></th>\n",
       "      <th>hr</th>\n",
       "      <th>rbi</th>\n",
       "    </tr>\n",
       "  </thead>\n",
       "  <tbody>\n",
       "    <tr>\n",
       "      <th>count</th>\n",
       "      <td>100.000000</td>\n",
       "      <td>100.00000</td>\n",
       "    </tr>\n",
       "    <tr>\n",
       "      <th>mean</th>\n",
       "      <td>4.370000</td>\n",
       "      <td>18.47000</td>\n",
       "    </tr>\n",
       "    <tr>\n",
       "      <th>std</th>\n",
       "      <td>7.975537</td>\n",
       "      <td>28.34793</td>\n",
       "    </tr>\n",
       "    <tr>\n",
       "      <th>min</th>\n",
       "      <td>0.000000</td>\n",
       "      <td>0.00000</td>\n",
       "    </tr>\n",
       "    <tr>\n",
       "      <th>25%</th>\n",
       "      <td>0.000000</td>\n",
       "      <td>0.00000</td>\n",
       "    </tr>\n",
       "    <tr>\n",
       "      <th>50%</th>\n",
       "      <td>0.000000</td>\n",
       "      <td>2.00000</td>\n",
       "    </tr>\n",
       "    <tr>\n",
       "      <th>75%</th>\n",
       "      <td>6.000000</td>\n",
       "      <td>27.00000</td>\n",
       "    </tr>\n",
       "    <tr>\n",
       "      <th>max</th>\n",
       "      <td>35.000000</td>\n",
       "      <td>96.00000</td>\n",
       "    </tr>\n",
       "  </tbody>\n",
       "</table>\n",
       "</div>"
      ],
      "text/plain": [
       "               hr        rbi\n",
       "count  100.000000  100.00000\n",
       "mean     4.370000   18.47000\n",
       "std      7.975537   28.34793\n",
       "min      0.000000    0.00000\n",
       "25%      0.000000    0.00000\n",
       "50%      0.000000    2.00000\n",
       "75%      6.000000   27.00000\n",
       "max     35.000000   96.00000"
      ]
     },
     "execution_count": 3,
     "metadata": {},
     "output_type": "execute_result"
    }
   ],
   "source": [
    "hr_rbi = df[['hr', 'rbi']]\n",
    "hr_rbi.describe()"
   ]
  },
  {
   "cell_type": "code",
   "execution_count": 4,
   "id": "neural-check",
   "metadata": {},
   "outputs": [
    {
     "data": {
      "text/html": [
       "<div>\n",
       "<style scoped>\n",
       "    .dataframe tbody tr th:only-of-type {\n",
       "        vertical-align: middle;\n",
       "    }\n",
       "\n",
       "    .dataframe tbody tr th {\n",
       "        vertical-align: top;\n",
       "    }\n",
       "\n",
       "    .dataframe thead th {\n",
       "        text-align: right;\n",
       "    }\n",
       "</style>\n",
       "<table border=\"1\" class=\"dataframe\">\n",
       "  <thead>\n",
       "    <tr style=\"text-align: right;\">\n",
       "      <th></th>\n",
       "      <th>hr</th>\n",
       "      <th>rbi</th>\n",
       "    </tr>\n",
       "  </thead>\n",
       "  <tbody>\n",
       "    <tr>\n",
       "      <th>count</th>\n",
       "      <td>100.000000</td>\n",
       "      <td>100.00000</td>\n",
       "    </tr>\n",
       "    <tr>\n",
       "      <th>mean</th>\n",
       "      <td>4.370000</td>\n",
       "      <td>18.47000</td>\n",
       "    </tr>\n",
       "    <tr>\n",
       "      <th>std</th>\n",
       "      <td>7.975537</td>\n",
       "      <td>28.34793</td>\n",
       "    </tr>\n",
       "    <tr>\n",
       "      <th>min</th>\n",
       "      <td>0.000000</td>\n",
       "      <td>0.00000</td>\n",
       "    </tr>\n",
       "    <tr>\n",
       "      <th>20%</th>\n",
       "      <td>0.000000</td>\n",
       "      <td>0.00000</td>\n",
       "    </tr>\n",
       "    <tr>\n",
       "      <th>50%</th>\n",
       "      <td>0.000000</td>\n",
       "      <td>2.00000</td>\n",
       "    </tr>\n",
       "    <tr>\n",
       "      <th>80%</th>\n",
       "      <td>9.000000</td>\n",
       "      <td>44.20000</td>\n",
       "    </tr>\n",
       "    <tr>\n",
       "      <th>max</th>\n",
       "      <td>35.000000</td>\n",
       "      <td>96.00000</td>\n",
       "    </tr>\n",
       "  </tbody>\n",
       "</table>\n",
       "</div>"
      ],
      "text/plain": [
       "               hr        rbi\n",
       "count  100.000000  100.00000\n",
       "mean     4.370000   18.47000\n",
       "std      7.975537   28.34793\n",
       "min      0.000000    0.00000\n",
       "20%      0.000000    0.00000\n",
       "50%      0.000000    2.00000\n",
       "80%      9.000000   44.20000\n",
       "max     35.000000   96.00000"
      ]
     },
     "execution_count": 4,
     "metadata": {},
     "output_type": "execute_result"
    }
   ],
   "source": [
    "hr_rbi.describe(percentiles=[.2, .8])"
   ]
  },
  {
   "cell_type": "code",
   "execution_count": 5,
   "id": "happy-values",
   "metadata": {},
   "outputs": [
    {
     "data": {
      "text/html": [
       "<div>\n",
       "<style scoped>\n",
       "    .dataframe tbody tr th:only-of-type {\n",
       "        vertical-align: middle;\n",
       "    }\n",
       "\n",
       "    .dataframe tbody tr th {\n",
       "        vertical-align: top;\n",
       "    }\n",
       "\n",
       "    .dataframe thead th {\n",
       "        text-align: right;\n",
       "    }\n",
       "</style>\n",
       "<table border=\"1\" class=\"dataframe\">\n",
       "  <thead>\n",
       "    <tr style=\"text-align: right;\">\n",
       "      <th></th>\n",
       "      <th>hr</th>\n",
       "      <th>rbi</th>\n",
       "    </tr>\n",
       "  </thead>\n",
       "  <tbody>\n",
       "    <tr>\n",
       "      <th>count</th>\n",
       "      <td>100.000000</td>\n",
       "      <td>100.00000</td>\n",
       "    </tr>\n",
       "    <tr>\n",
       "      <th>mean</th>\n",
       "      <td>4.370000</td>\n",
       "      <td>18.47000</td>\n",
       "    </tr>\n",
       "    <tr>\n",
       "      <th>std</th>\n",
       "      <td>7.975537</td>\n",
       "      <td>28.34793</td>\n",
       "    </tr>\n",
       "    <tr>\n",
       "      <th>min</th>\n",
       "      <td>0.000000</td>\n",
       "      <td>0.00000</td>\n",
       "    </tr>\n",
       "    <tr>\n",
       "      <th>10%</th>\n",
       "      <td>0.000000</td>\n",
       "      <td>0.00000</td>\n",
       "    </tr>\n",
       "    <tr>\n",
       "      <th>50%</th>\n",
       "      <td>0.000000</td>\n",
       "      <td>2.00000</td>\n",
       "    </tr>\n",
       "    <tr>\n",
       "      <th>max</th>\n",
       "      <td>35.000000</td>\n",
       "      <td>96.00000</td>\n",
       "    </tr>\n",
       "  </tbody>\n",
       "</table>\n",
       "</div>"
      ],
      "text/plain": [
       "               hr        rbi\n",
       "count  100.000000  100.00000\n",
       "mean     4.370000   18.47000\n",
       "std      7.975537   28.34793\n",
       "min      0.000000    0.00000\n",
       "10%      0.000000    0.00000\n",
       "50%      0.000000    2.00000\n",
       "max     35.000000   96.00000"
      ]
     },
     "execution_count": 5,
     "metadata": {},
     "output_type": "execute_result"
    }
   ],
   "source": [
    "hr_rbi.describe(percentiles=[.1])"
   ]
  },
  {
   "cell_type": "code",
   "execution_count": 6,
   "id": "delayed-cassette",
   "metadata": {},
   "outputs": [
    {
     "data": {
      "text/plain": [
       "Index(['id', 'player', 'year', 'stint', 'team', 'lg', 'g', 'ab', 'r', 'h',\n",
       "       'X2b', 'X3b', 'hr', 'rbi', 'sb', 'cs', 'bb', 'so', 'ibb', 'hbp', 'sh',\n",
       "       'sf', 'gidp'],\n",
       "      dtype='object')"
      ]
     },
     "execution_count": 6,
     "metadata": {},
     "output_type": "execute_result"
    }
   ],
   "source": [
    "df.columns"
   ]
  },
  {
   "cell_type": "code",
   "execution_count": 9,
   "id": "loaded-bikini",
   "metadata": {},
   "outputs": [],
   "source": [
    "p_ids = df['player']"
   ]
  },
  {
   "cell_type": "code",
   "execution_count": 10,
   "id": "boxed-segment",
   "metadata": {},
   "outputs": [
    {
     "data": {
      "text/plain": [
       "claytro01    2\n",
       "finlest01    2\n",
       "sweenma01    2\n",
       "myersmi01    2\n",
       "cirilje01    2\n",
       "            ..\n",
       "helliri01    1\n",
       "sosasa01     1\n",
       "stinnke01    1\n",
       "glavito02    1\n",
       "moyerja01    1\n",
       "Name: player, Length: 82, dtype: int64"
      ]
     },
     "execution_count": 10,
     "metadata": {},
     "output_type": "execute_result"
    }
   ],
   "source": [
    "p_ids.value_counts()"
   ]
  },
  {
   "cell_type": "code",
   "execution_count": 11,
   "id": "intermediate-experiment",
   "metadata": {},
   "outputs": [
    {
     "data": {
      "text/plain": [
       "claytro01    0.02\n",
       "finlest01    0.02\n",
       "sweenma01    0.02\n",
       "myersmi01    0.02\n",
       "cirilje01    0.02\n",
       "             ... \n",
       "helliri01    0.01\n",
       "sosasa01     0.01\n",
       "stinnke01    0.01\n",
       "glavito02    0.01\n",
       "moyerja01    0.01\n",
       "Name: player, Length: 82, dtype: float64"
      ]
     },
     "execution_count": 11,
     "metadata": {},
     "output_type": "execute_result"
    }
   ],
   "source": [
    "p_ids.value_counts(normalize=True)"
   ]
  },
  {
   "cell_type": "code",
   "execution_count": 12,
   "id": "controlled-hughes",
   "metadata": {},
   "outputs": [
    {
     "data": {
      "text/plain": [
       "moyerja01    1\n",
       "whiteri01    1\n",
       "sheffga01    1\n",
       "valenjo03    1\n",
       "gordoto01    1\n",
       "            ..\n",
       "coninje01    2\n",
       "francju01    2\n",
       "hernaro01    2\n",
       "benitar01    2\n",
       "gomezch02    2\n",
       "Name: player, Length: 82, dtype: int64"
      ]
     },
     "execution_count": 12,
     "metadata": {},
     "output_type": "execute_result"
    }
   ],
   "source": [
    "p_ids.value_counts(ascending=True)"
   ]
  },
  {
   "cell_type": "code",
   "execution_count": 14,
   "id": "subsequent-merit",
   "metadata": {},
   "outputs": [
    {
     "data": {
      "text/plain": [
       "array(['womacto01', 'schilcu01', 'myersmi01', 'helliri01', 'johnsra05',\n",
       "       'finlest01', 'gonzalu01', 'seleaa01', 'francju01', 'francju01',\n",
       "       'zaungr01', 'witasja01', 'williwo02', 'wickmbo01', 'wickmbo01',\n",
       "       'whitero02', 'whiteri01', 'wellsda01', 'wellsda01', 'weathda01',\n",
       "       'walketo04', 'wakefti01', 'vizquom01', 'villoro01', 'valenjo03',\n",
       "       'trachst01', 'trachst01', 'timlimi01', 'thomeji01', 'thomafr04',\n",
       "       'tavarju01', 'sweenma01', 'sweenma01', 'suppaje01', 'stinnke01',\n",
       "       'stantmi02', 'stairma01', 'sprinru01', 'sosasa01', 'smoltjo01',\n",
       "       'sheffga01', 'seleaa01', 'seaneru01', 'schmija01', 'schilcu01',\n",
       "       'sandere02', 'rogerke01', 'rodriiv01', 'ramirma02', 'piazzmi01',\n",
       "       'perezne01', 'parkch01', 'oliveda02', 'myersmi01', 'mussimi01',\n",
       "       'moyerja01', 'mesajo01', 'martipe02', 'maddugr01', 'mabryjo01',\n",
       "       'loftoke01', 'loftoke01', 'loaizes01', 'kleskry01', 'kentje01',\n",
       "       'jonesto02', 'johnsra05', 'hoffmtr01', 'hernaro01', 'hernaro01',\n",
       "       'guarded01', 'griffke02', 'greensh01', 'graffto01', 'gordoto01',\n",
       "       'gonzalu01', 'gomezch02', 'gomezch02', 'glavito02', 'floydcl01',\n",
       "       'finlest01', 'embreal01', 'edmonji01', 'easleda01', 'delgaca01',\n",
       "       'cormirh01', 'coninje01', 'coninje01', 'clemero02', 'claytro01',\n",
       "       'claytro01', 'cirilje01', 'cirilje01', 'bondsba01', 'biggicr01',\n",
       "       'benitar01', 'benitar01', 'ausmubr01', 'aloumo01', 'alomasa02'],\n",
       "      dtype=object)"
      ]
     },
     "execution_count": 14,
     "metadata": {},
     "output_type": "execute_result"
    }
   ],
   "source": [
    "p_ids.values # NumPy vector (1D array)"
   ]
  },
  {
   "cell_type": "code",
   "execution_count": 15,
   "id": "challenging-ethnic",
   "metadata": {},
   "outputs": [
    {
     "data": {
      "text/plain": [
       "array(['womacto01', 'schilcu01', 'myersmi01', 'helliri01', 'johnsra05',\n",
       "       'finlest01', 'gonzalu01', 'seleaa01', 'francju01', 'zaungr01',\n",
       "       'witasja01', 'williwo02', 'wickmbo01', 'whitero02', 'whiteri01',\n",
       "       'wellsda01', 'weathda01', 'walketo04', 'wakefti01', 'vizquom01',\n",
       "       'villoro01', 'valenjo03', 'trachst01', 'timlimi01', 'thomeji01',\n",
       "       'thomafr04', 'tavarju01', 'sweenma01', 'suppaje01', 'stinnke01',\n",
       "       'stantmi02', 'stairma01', 'sprinru01', 'sosasa01', 'smoltjo01',\n",
       "       'sheffga01', 'seaneru01', 'schmija01', 'sandere02', 'rogerke01',\n",
       "       'rodriiv01', 'ramirma02', 'piazzmi01', 'perezne01', 'parkch01',\n",
       "       'oliveda02', 'mussimi01', 'moyerja01', 'mesajo01', 'martipe02',\n",
       "       'maddugr01', 'mabryjo01', 'loftoke01', 'loaizes01', 'kleskry01',\n",
       "       'kentje01', 'jonesto02', 'hoffmtr01', 'hernaro01', 'guarded01',\n",
       "       'griffke02', 'greensh01', 'graffto01', 'gordoto01', 'gomezch02',\n",
       "       'glavito02', 'floydcl01', 'embreal01', 'edmonji01', 'easleda01',\n",
       "       'delgaca01', 'cormirh01', 'coninje01', 'clemero02', 'claytro01',\n",
       "       'cirilje01', 'bondsba01', 'biggicr01', 'benitar01', 'ausmubr01',\n",
       "       'aloumo01', 'alomasa02'], dtype=object)"
      ]
     },
     "execution_count": 15,
     "metadata": {},
     "output_type": "execute_result"
    }
   ],
   "source": [
    "unique_playes = df['player'].unique()\n",
    "unique_playes"
   ]
  },
  {
   "cell_type": "code",
   "execution_count": 16,
   "id": "persistent-decade",
   "metadata": {},
   "outputs": [
    {
     "data": {
      "text/plain": [
       "array(['CHN', 'BOS', 'NYA', 'MIL', 'SFN', 'ARI', 'LAN', 'ATL', 'NYN',\n",
       "       'TOR', 'TBA', 'HOU', 'MIN', 'SDN', 'CIN', 'OAK', 'BAL', 'CHA',\n",
       "       'SLN', 'TEX', 'DET', 'KCA', 'LAA', 'PHI', 'COL', 'CLE', 'FLO'],\n",
       "      dtype=object)"
      ]
     },
     "execution_count": 16,
     "metadata": {},
     "output_type": "execute_result"
    }
   ],
   "source": [
    "unique_teams = df['team'].unique()\n",
    "unique_teams"
   ]
  },
  {
   "cell_type": "code",
   "execution_count": 17,
   "id": "phantom-strap",
   "metadata": {},
   "outputs": [
    {
     "data": {
      "text/plain": [
       "2007    92\n",
       "2006     8\n",
       "Name: year, dtype: int64"
      ]
     },
     "execution_count": 17,
     "metadata": {},
     "output_type": "execute_result"
    }
   ],
   "source": [
    "y_ids = df['year']\n",
    "y_ids.value_counts()"
   ]
  }
 ],
 "metadata": {
  "kernelspec": {
   "display_name": "Python 3",
   "language": "python",
   "name": "python3"
  },
  "language_info": {
   "codemirror_mode": {
    "name": "ipython",
    "version": 3
   },
   "file_extension": ".py",
   "mimetype": "text/x-python",
   "name": "python",
   "nbconvert_exporter": "python",
   "pygments_lexer": "ipython3",
   "version": "3.9.2"
  }
 },
 "nbformat": 4,
 "nbformat_minor": 5
}
